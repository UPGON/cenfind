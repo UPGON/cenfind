{
 "cells": [
  {
   "cell_type": "markdown",
   "metadata": {},
   "source": [
    "# ZQUASH"
   ]
  },
  {
   "cell_type": "code",
   "execution_count": 1,
   "metadata": {},
   "outputs": [],
   "source": [
    "from pathlib import Path\n",
    "import shutil\n",
    "\n",
    "import xmltodict\n",
    "import tifffile as tf\n",
    "from tqdm import tqdm\n",
    "\n",
    "from zquash import (setup,\n",
    "                    images_collect,\n",
    "                    data_load,\n",
    "                    )"
   ]
  },
  {
   "cell_type": "code",
   "execution_count": null,
   "metadata": {
    "pycharm": {
     "name": "#%%\n",
     "is_executing": true
    }
   },
   "outputs": [
    {
     "name": "stdout",
     "output_type": "stream",
     "text": [
      "Please make sure that your data folders are located under `raw`\n"
     ]
    }
   ],
   "source": [
    "path_dataset = Path(input(\"Enter the absolute path to the dataset :\"))\n",
    "\n",
    "setup(path_dataset)\n",
    "\n",
    "try:\n",
    "    files = images_collect(path_dataset / 'raw', '.ome.tif')\n",
    "except FileNotFoundError:\n",
    "    print('Please make sure that your data folders are located under `raw`')\n",
    "# /Volumes/work/20210709_SecondPlateCheck"
   ]
  },
  {
   "cell_type": "code",
   "execution_count": null,
   "metadata": {
    "pycharm": {
     "name": "#%%\n"
    }
   },
   "outputs": [],
   "source": [
    "pbar = tqdm(files)\n",
    "\n",
    "for file in pbar:\n",
    "    pbar.set_description(f\"Loading {file.name}\")\n",
    "\n",
    "#     path_copy = Path(path_dataset / 'projections' / file.name)\n",
    "#     shutil.copy(file, path_copy)\n",
    "\n",
    "    projected, ome_metadata = data_load(file, sharp_only=True)\n",
    "    ome_metadata_dict = xmltodict.parse(ome_metadata)\n",
    "\n",
    "    file_stem = file.name.split('.')[0]\n",
    "\n",
    "    tf.imwrite(path_dataset / 'projections' / f'{file_stem}_max.ome.tif',\n",
    "               projected, photometric=\"minisblack\", metadata=ome_metadata_dict)\n"
   ]
  }
 ],
 "metadata": {
  "kernelspec": {
   "display_name": "Python 3 (ipykernel)",
   "language": "python",
   "name": "python3"
  },
  "language_info": {
   "codemirror_mode": {
    "name": "ipython",
    "version": 3
   },
   "file_extension": ".py",
   "mimetype": "text/x-python",
   "name": "python",
   "nbconvert_exporter": "python",
   "pygments_lexer": "ipython3",
   "version": "3.9.5"
  }
 },
 "nbformat": 4,
 "nbformat_minor": 1
}