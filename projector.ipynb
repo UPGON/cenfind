{
 "cells": [
  {
   "cell_type": "markdown",
   "id": "35f75723-dfa6-46aa-a40a-b2660595e14d",
   "metadata": {},
   "source": [
    "# Z- max projection across in-focus planes"
   ]
  },
  {
   "cell_type": "markdown",
   "id": "9e1a3cf8-b1c6-489f-810f-24b27e8b2fb1",
   "metadata": {},
   "source": [
    "This notebook accepts a dataset and write z max projections\n",
    "\n",
    "1. the dataset folder is structured: raw | projected | out\n",
    "1. only the focal planes (highest x-y std projection) are used for the z max projection\n",
    "1. the generated tiff files are saved as 16bit CxWxH ome.tiff files in the `projected` folder\n",
    "\n",
    "Remark: the user is asked to make some decisions based on the helper plots (for instance, the threshold and the channel to use for sharpness evaluation)"
   ]
  },
  {
   "cell_type": "code",
   "execution_count": 139,
   "id": "dd237aa9-f5d8-441e-89be-6f1cf83b0f56",
   "metadata": {},
   "outputs": [],
   "source": [
    "from pathlib import Path\n",
    "from pprint import pprint\n",
    "\n",
    "from matplotlib import pyplot as plt\n",
    "\n",
    "import tifffile as tf\n",
    "import numpy as np\n",
    "import cv2\n",
    "\n",
    "from centrack import sharp_planes, image_8bit_contrast"
   ]
  },
  {
   "cell_type": "code",
   "execution_count": 140,
   "id": "d11c4c1f-1252-4712-8e42-8e449d3c73c2",
   "metadata": {},
   "outputs": [
    {
     "name": "stdin",
     "output_type": "stream",
     "text": [
      "Enter the name of the dataset RPE1wt_CEP63+CETN2+PCNT_1\n"
     ]
    }
   ],
   "source": [
    "# Create directory variables\n",
    "path_root = Path('/Volumes/work/datasets/')\n",
    "# RPE1wt_CEP152+GTU88+PCNT_1\n",
    "# RPE1wt_CEP63+CETN2+PCNT_1\n",
    "dataset_name = input(\"Enter the name of the dataset\")\n",
    "\n",
    "path_raw = path_root / dataset_name / 'raw'\n",
    "\n",
    "path_projections = path_root / dataset_name / 'projected'\n",
    "path_projections.mkdir(exist_ok=True)\n",
    "\n",
    "# Collect the ome.tiff files\n",
    "files = sorted(tuple(file for file in path_raw.iterdir() \n",
    "                     if file.name.endswith('.tif') \n",
    "                     if not file.name.startswith('.')))"
   ]
  },
  {
   "cell_type": "code",
   "execution_count": 141,
   "id": "7590b6d6-7d1f-4cc7-9aac-99affdff4c40",
   "metadata": {},
   "outputs": [
    {
     "name": "stdout",
     "output_type": "stream",
     "text": [
      "/Volumes/work/datasets/RPE1wt_CEP63+CETN2+PCNT_1/raw/gfp.tif\n"
     ]
    }
   ],
   "source": [
    "# Load a sample file to refine parameters\n",
    "path_master_file = files[0]\n",
    "print(path_master_file)\n",
    "fov = tf.imread(path_master_file)"
   ]
  },
  {
   "cell_type": "code",
   "execution_count": 80,
   "id": "c876a1e5-aa86-4c16-b1c1-b9d13ecc5a9e",
   "metadata": {},
   "outputs": [],
   "source": [
    "target_dims = (4, 67, 2048, 2048)"
   ]
  },
  {
   "cell_type": "code",
   "execution_count": 122,
   "id": "a4ad72a4-b804-4600-81fb-1c90e45346ec",
   "metadata": {},
   "outputs": [],
   "source": [
    "# reshaped = fov.flatten().reshape(target_dims)\n",
    "reshaped = np.expand_dims(fov, 0)\n",
    "# reshaped = np.moveaxis(fov, 0, 1)"
   ]
  },
  {
   "cell_type": "code",
   "execution_count": 82,
   "id": "e8dffe8c-8e23-483d-8367-5b94b1dc3e6a",
   "metadata": {},
   "outputs": [],
   "source": [
    "assert reshaped.shape == target_dims, f\"Not the same dimensions {fov.shape}; target={target_dims}\""
   ]
  },
  {
   "cell_type": "code",
   "execution_count": 146,
   "id": "bbf13c3f-d462-4745-8a6b-0fd9cd5cdf48",
   "metadata": {},
   "outputs": [
    {
     "name": "stdout",
     "output_type": "stream",
     "text": [
      "RPE1wt_CEP63+CETN2+PCNT_1 => [(0, 'DAPI'), (1, 'CEP63'), (2, 'CETN2'), (3, 'PCNT')]\n"
     ]
    }
   ],
   "source": [
    "markers = dataset_name.split('_')[-2].split('+')\n",
    "if 'DAPI' not in markers:\n",
    "    markers = ['DAPI'] + markers\n",
    "markers_map = list(zip(range(len(markers)), markers))\n",
    "print(f\"{dataset_name} => {markers_map}\")"
   ]
  },
  {
   "cell_type": "code",
   "execution_count": 147,
   "id": "35c5ec4d-690b-4288-ade3-d6869b927a8c",
   "metadata": {
    "tags": []
   },
   "outputs": [
    {
     "name": "stdout",
     "output_type": "stream",
     "text": [
      "(67,) (1, 2048, 2048)\n"
     ]
    },
    {
     "ename": "IndexError",
     "evalue": "index 1 is out of bounds for axis 0 with size 1",
     "output_type": "error",
     "traceback": [
      "\u001b[0;31m---------------------------------------------------------------------------\u001b[0m",
      "\u001b[0;31mIndexError\u001b[0m                                Traceback (most recent call last)",
      "\u001b[0;32m<ipython-input-147-cf50be4dc928>\u001b[0m in \u001b[0;36m<module>\u001b[0;34m\u001b[0m\n\u001b[1;32m      5\u001b[0m \u001b[0;32mfor\u001b[0m \u001b[0mi\u001b[0m\u001b[0;34m,\u001b[0m \u001b[0mname\u001b[0m \u001b[0;32min\u001b[0m \u001b[0mmarkers_map\u001b[0m\u001b[0;34m:\u001b[0m\u001b[0;34m\u001b[0m\u001b[0;34m\u001b[0m\u001b[0m\n\u001b[1;32m      6\u001b[0m     \u001b[0max\u001b[0m \u001b[0;34m=\u001b[0m \u001b[0maxs\u001b[0m\u001b[0;34m[\u001b[0m\u001b[0mi\u001b[0m\u001b[0;34m]\u001b[0m\u001b[0;34m\u001b[0m\u001b[0;34m\u001b[0m\u001b[0m\n\u001b[0;32m----> 7\u001b[0;31m     profile, projected = sharp_planes(reshaped,\n\u001b[0m\u001b[1;32m      8\u001b[0m                                       \u001b[0mshape\u001b[0m\u001b[0;34m=\u001b[0m\u001b[0mtarget_dims\u001b[0m\u001b[0;34m,\u001b[0m\u001b[0;34m\u001b[0m\u001b[0;34m\u001b[0m\u001b[0m\n\u001b[1;32m      9\u001b[0m                                       \u001b[0mreference_channel\u001b[0m\u001b[0;34m=\u001b[0m\u001b[0mi\u001b[0m\u001b[0;34m,\u001b[0m\u001b[0;34m\u001b[0m\u001b[0;34m\u001b[0m\u001b[0m\n",
      "\u001b[0;32m~/epfl/upgon/projects/centrack/centrack.py\u001b[0m in \u001b[0;36msharp_planes\u001b[0;34m(array, shape, reference_channel, threshold)\u001b[0m\n\u001b[1;32m     18\u001b[0m     \"\"\"\n\u001b[1;32m     19\u001b[0m \u001b[0;34m\u001b[0m\u001b[0m\n\u001b[0;32m---> 20\u001b[0;31m     \u001b[0mprofile\u001b[0m \u001b[0;34m=\u001b[0m \u001b[0marray\u001b[0m\u001b[0;34m[\u001b[0m\u001b[0mreference_channel\u001b[0m\u001b[0;34m,\u001b[0m \u001b[0;34m:\u001b[0m\u001b[0;34m,\u001b[0m \u001b[0;34m:\u001b[0m\u001b[0;34m,\u001b[0m \u001b[0;34m:\u001b[0m\u001b[0;34m]\u001b[0m\u001b[0;34m.\u001b[0m\u001b[0mstd\u001b[0m\u001b[0;34m(\u001b[0m\u001b[0maxis\u001b[0m\u001b[0;34m=\u001b[0m\u001b[0;34m(\u001b[0m\u001b[0;36m1\u001b[0m\u001b[0;34m,\u001b[0m \u001b[0;36m2\u001b[0m\u001b[0;34m)\u001b[0m\u001b[0;34m)\u001b[0m\u001b[0;34m\u001b[0m\u001b[0;34m\u001b[0m\u001b[0m\n\u001b[0m\u001b[1;32m     21\u001b[0m     \u001b[0mprojected\u001b[0m \u001b[0;34m=\u001b[0m \u001b[0marray\u001b[0m\u001b[0;34m[\u001b[0m\u001b[0;34m:\u001b[0m\u001b[0;34m,\u001b[0m \u001b[0mprofile\u001b[0m \u001b[0;34m>\u001b[0m \u001b[0mthreshold\u001b[0m\u001b[0;34m,\u001b[0m \u001b[0;34m:\u001b[0m\u001b[0;34m,\u001b[0m \u001b[0;34m:\u001b[0m\u001b[0;34m]\u001b[0m\u001b[0;34m.\u001b[0m\u001b[0mmax\u001b[0m\u001b[0;34m(\u001b[0m\u001b[0maxis\u001b[0m\u001b[0;34m=\u001b[0m\u001b[0;36m1\u001b[0m\u001b[0;34m)\u001b[0m\u001b[0;34m\u001b[0m\u001b[0;34m\u001b[0m\u001b[0m\n\u001b[1;32m     22\u001b[0m     \u001b[0mprint\u001b[0m\u001b[0;34m(\u001b[0m\u001b[0mprofile\u001b[0m\u001b[0;34m.\u001b[0m\u001b[0mshape\u001b[0m\u001b[0;34m,\u001b[0m \u001b[0mprojected\u001b[0m\u001b[0;34m.\u001b[0m\u001b[0mshape\u001b[0m\u001b[0;34m)\u001b[0m\u001b[0;34m\u001b[0m\u001b[0;34m\u001b[0m\u001b[0m\n",
      "\u001b[0;31mIndexError\u001b[0m: index 1 is out of bounds for axis 0 with size 1"
     ]
    },
    {
     "data": {
      "image/png": "[encoded data removed]",
      "text/plain": [
       "<Figure size 1440x360 with 4 Axes>"
      ]
     },
     "metadata": {
      "needs_background": "light"
     },
     "output_type": "display_data"
    }
   ],
   "source": [
    "channels_n = reshaped.shape[0]\n",
    "depth_n = reshaped.shape[1]\n",
    "fig, axs = plt.subplots(ncols=len(markers), figsize=(20, 5))\n",
    "\n",
    "for i, name in markers_map:\n",
    "    ax = axs[i]\n",
    "    profile, projected = sharp_planes(reshaped,\n",
    "                                      shape=target_dims, \n",
    "                                      reference_channel=i, \n",
    "                                      threshold=0)\n",
    "    ax.plot(profile, 'k')\n",
    "    ax.hlines(profile.mean(), 0, depth_n, colors='k')\n",
    "    ax.set_title(f\"{name}; {int(profile.mean())}\")"
   ]
  },
  {
   "cell_type": "code",
   "execution_count": 148,
   "id": "115e3686-f144-455d-ac0b-7b40b47ea17e",
   "metadata": {},
   "outputs": [
    {
     "name": "stdin",
     "output_type": "stream",
     "text": [
      "Please enter the channel 0\n",
      "Please enter the threshold 13\n"
     ]
    }
   ],
   "source": [
    "channel_id = int(input(\"Please enter the channel\"))\n",
    "threshold = int(input(\"Please enter the threshold\"))"
   ]
  },
  {
   "cell_type": "code",
   "execution_count": 153,
   "id": "a123bff3-211d-43a8-ad39-e9892822c453",
   "metadata": {
    "tags": []
   },
   "outputs": [
    {
     "name": "stdout",
     "output_type": "stream",
     "text": [
      "Loading gfp.tif\n"
     ]
    }
   ],
   "source": [
    "for f, file in enumerate(files):\n",
    "    print(f\"Loading {file.name}\")\n",
    "    fov = tf.imread(path_raw / file.name)\n",
    "    reshaped = np.expand_dims(fov, 0)\n",
    "#     reshaped = np.moveaxis(fov, 0, 1)\n",
    "#     reshaped = fov.flatten().reshape(target_dims)\n",
    "#     profile, projected = sharp_planes(reshaped, \n",
    "#                                       shape=target_dims, \n",
    "#                                       reference_channel=channel_id, \n",
    "#                                       threshold=threshold)\n",
    "    projected = reshaped.max(1)\n",
    "    tf.imwrite(path_projections / file.name, projected)"
   ]
  },
  {
   "cell_type": "code",
   "execution_count": 152,
   "id": "54b54a92-c595-4950-9c3b-85bc9eb11a04",
   "metadata": {},
   "outputs": [
    {
     "data": {
      "text/plain": [
       "(67, 2048, 2048)"
      ]
     },
     "execution_count": 152,
     "metadata": {},
     "output_type": "execute_result"
    }
   ],
   "source": [
    "fov.shape"
   ]
  },
  {
   "cell_type": "code",
   "execution_count": null,
   "id": "d09f32e7-0083-4f9f-b09a-71020d7a2f02",
   "metadata": {},
   "outputs": [],
   "source": []
  }
 ],
 "metadata": {
  "kernelspec": {
   "display_name": "Python 3",
   "language": "python",
   "name": "python3"
  },
  "language_info": {
   "codemirror_mode": {
    "name": "ipython",
    "version": 3
   },
   "file_extension": ".py",
   "mimetype": "text/x-python",
   "name": "python",
   "nbconvert_exporter": "python",
   "pygments_lexer": "ipython3",
   "version": "3.9.5"
  }
 },
 "nbformat": 4,
 "nbformat_minor": 5
}
