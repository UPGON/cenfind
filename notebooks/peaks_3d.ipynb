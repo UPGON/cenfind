{
 "cells": [
  {
   "cell_type": "markdown",
   "id": "b015de2e-a637-4356-b9ce-664da81b27ed",
   "metadata": {},
   "source": [
    "# 3D maximum finding"
   ]
  },
  {
   "cell_type": "code",
   "execution_count": 8,
   "id": "1e31e859-ec5c-4a43-a09c-5126b38c0a54",
   "metadata": {},
   "outputs": [],
   "source": [
    "from pathlib import Path\n",
    "from pprint import pprint\n",
    "\n",
    "from matplotlib import pyplot as plt\n",
    "\n",
    "import tifffile as tf\n",
    "import numpy as np\n",
    "import cv2\n",
    "\n",
    "import numpy as np\n",
    "import scipy.ndimage as ndimage\n",
    "\n",
    "from centrack import sharp_planes, image_8bit_contrast"
   ]
  },
  {
   "cell_type": "code",
   "execution_count": 4,
   "id": "a7e03039-c54f-4493-8bf6-b0255d438fe6",
   "metadata": {},
   "outputs": [
    {
     "name": "stdin",
     "output_type": "stream",
     "text": [
      "Enter the name of the dataset RPE1wt_CEP63+CETN2+PCNT_1\n"
     ]
    }
   ],
   "source": [
    "# Create directory variables\n",
    "path_root = Path('/Volumes/work/datasets/')\n",
    "# RPE1wt_CEP152+GTU88+PCNT_1\n",
    "# RPE1wt_CEP63+CETN2+PCNT_1\n",
    "dataset_name = input(\"Enter the name of the dataset\")\n",
    "\n",
    "path_raw = path_root / dataset_name / 'raw'\n",
    "\n",
    "path_projections = path_root / dataset_name / 'projected'\n",
    "path_projections.mkdir(exist_ok=True)\n",
    "\n",
    "# Collect the ome.tiff files\n",
    "files = sorted(tuple(file for file in path_raw.iterdir() \n",
    "                     if file.name.endswith('.tif') \n",
    "                     if not file.name.startswith('.')))"
   ]
  },
  {
   "cell_type": "code",
   "execution_count": 9,
   "id": "f71cdf81-4410-4a9c-a6e1-c0de9df4dfe8",
   "metadata": {},
   "outputs": [],
   "source": [
    "file_path = files[0]\n",
    "stack = tf.imread(file_path)"
   ]
  },
  {
   "cell_type": "code",
   "execution_count": 46,
   "id": "8103b36b-cbfb-4564-9d7c-e3eb0e721948",
   "metadata": {},
   "outputs": [],
   "source": [
    "ks = 3"
   ]
  },
  {
   "cell_type": "code",
   "execution_count": 47,
   "id": "0fb92f19-9467-43a5-9db5-ca6ef8ba18c5",
   "metadata": {},
   "outputs": [],
   "source": [
    "img2 = ndimage.maximum_filter(stack, size=(ks, ks, ks))"
   ]
  },
  {
   "cell_type": "code",
   "execution_count": 48,
   "id": "0b68b950-7d8f-44c8-a3b9-bf39bdbf362a",
   "metadata": {},
   "outputs": [],
   "source": [
    "result = img2\n",
    "# result = image_8bit_contrast(result)\n",
    "tf.imwrite(f'./out/{file_path.stem}_3d_{ks}.tif', (result));"
   ]
  },
  {
   "cell_type": "code",
   "execution_count": 39,
   "id": "24e66ec3-73ba-4750-a6da-b9018f6ccbcd",
   "metadata": {},
   "outputs": [],
   "source": [
    "img_thresh = img2.mean() + img2.std() * 6"
   ]
  },
  {
   "cell_type": "code",
   "execution_count": 40,
   "id": "1760528e-4226-4333-8cb4-88acc5bdd061",
   "metadata": {},
   "outputs": [],
   "source": [
    "labels, num_labels = ndimage.label(img2 > img_thresh)"
   ]
  },
  {
   "cell_type": "code",
   "execution_count": 41,
   "id": "ac7676f0-4888-4bdc-960a-dd6f8af3eaba",
   "metadata": {},
   "outputs": [],
   "source": [
    "coords = ndimage.measurements.center_of_mass(img, labels=labels, index=np.arange(1, num_labels + 1))"
   ]
  },
  {
   "cell_type": "code",
   "execution_count": 14,
   "id": "8389ac71-1f25-455c-bacd-90a4e0587c31",
   "metadata": {},
   "outputs": [],
   "source": [
    "values = ndimage.measurements.maximum(img, labels=labels, index=np.arange(1, num_labels + 1))"
   ]
  },
  {
   "cell_type": "code",
   "execution_count": 27,
   "id": "bcc69093-5d6f-434a-be76-a6aef1ec3719",
   "metadata": {},
   "outputs": [
    {
     "data": {
      "text/plain": [
       "0"
      ]
     },
     "execution_count": 27,
     "metadata": {},
     "output_type": "execute_result"
    }
   ],
   "source": []
  },
  {
   "cell_type": "code",
   "execution_count": null,
   "id": "2dd1a512-5dae-452c-aff1-3468f0a9e0d7",
   "metadata": {},
   "outputs": [],
   "source": []
  }
 ],
 "metadata": {
  "kernelspec": {
   "display_name": "Python 3",
   "language": "python",
   "name": "python3"
  },
  "language_info": {
   "codemirror_mode": {
    "name": "ipython",
    "version": 3
   },
   "file_extension": ".py",
   "mimetype": "text/x-python",
   "name": "python",
   "nbconvert_exporter": "python",
   "pygments_lexer": "ipython3",
   "version": "3.9.5"
  }
 },
 "nbformat": 4,
 "nbformat_minor": 5
}
