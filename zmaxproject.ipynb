{
 "cells": [
  {
   "cell_type": "markdown",
   "source": [
    "# Z-max projection"
   ],
   "metadata": {
    "collapsed": false,
    "pycharm": {
     "name": "#%% md\n"
    }
   }
  },
  {
   "cell_type": "code",
   "execution_count": null,
   "metadata": {
    "collapsed": true
   },
   "outputs": [],
   "source": [
    "from tqdm import tqdm\n",
    "from aicsimageio import AICSImage\n",
    "\n",
    "from centrack.data import DataSet, Field"
   ]
  },
  {
   "cell_type": "code",
   "execution_count": null,
   "outputs": [],
   "source": [
    "dataset = DataSet('/Volumes/work/datasets/RPE1wt_CEP152+GTU88+PCNT_1')\n",
    "\n",
    "files = dataset.images_raw_collect('ome.tif')\n",
    "\n",
    "pbar = tqdm(files)\n",
    "\n",
    "for file in pbar:\n",
    "    data = Field(file)\n",
    "    projected = data.project()\n",
    "    file_name_core = file.name.removesuffix(''.join(file.suffixes))\n",
    "    dest_name = f'{file_name_core}_max.ome.tif'\n",
    "    path_projected = dataset.projections / dest_name\n",
    "    AICSImage(projected).save(path_projected)"
   ],
   "metadata": {
    "collapsed": false,
    "pycharm": {
     "name": "#%%\n"
    }
   }
  }
 ],
 "metadata": {
  "kernelspec": {
   "display_name": "Python 3",
   "language": "python",
   "name": "python3"
  },
  "language_info": {
   "codemirror_mode": {
    "name": "ipython",
    "version": 2
   },
   "file_extension": ".py",
   "mimetype": "text/x-python",
   "name": "python",
   "nbconvert_exporter": "python",
   "pygments_lexer": "ipython2",
   "version": "2.7.6"
  }
 },
 "nbformat": 4,
 "nbformat_minor": 0
}